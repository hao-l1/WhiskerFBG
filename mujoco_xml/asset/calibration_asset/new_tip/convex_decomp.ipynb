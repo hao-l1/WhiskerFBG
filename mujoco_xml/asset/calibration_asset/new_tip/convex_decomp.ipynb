{
 "cells": [
  {
   "cell_type": "code",
   "execution_count": 5,
   "metadata": {},
   "outputs": [],
   "source": [
    "import trimesh\n",
    "import coacd"
   ]
  },
  {
   "cell_type": "code",
   "execution_count": 6,
   "metadata": {},
   "outputs": [
    {
     "name": "stdout",
     "output_type": "stream",
     "text": [
      "[2024-05-30 13:32:30.703] [CoACD] [info] threshold               0.05\n",
      "[2024-05-30 13:32:30.703] [CoACD] [info] max # convex hull       -1\n",
      "[2024-05-30 13:32:30.703] [CoACD] [info] preprocess mode         auto\n",
      "[2024-05-30 13:32:30.703] [CoACD] [info] preprocess resolution   30\n",
      "[2024-05-30 13:32:30.703] [CoACD] [info] pca                     false\n",
      "[2024-05-30 13:32:30.703] [CoACD] [info] mcts max depth          3\n",
      "[2024-05-30 13:32:30.703] [CoACD] [info] mcts nodes              20\n",
      "[2024-05-30 13:32:30.703] [CoACD] [info] mcts iterations         150\n",
      "[2024-05-30 13:32:30.703] [CoACD] [info] merge                   true\n",
      "[2024-05-30 13:32:30.703] [CoACD] [info] seed                    0\n",
      "[2024-05-30 13:32:30.703] [CoACD] [info]  - Manifold Check\n",
      "[2024-05-30 13:32:30.705] [CoACD] [info] [1/3] Edge check finish\n",
      "[2024-05-30 13:32:30.879] [CoACD] [info] [2/3] Self-intersection check finish\n",
      "[2024-05-30 13:32:30.879] [CoACD] [info] [3/3] Triangle orientation check finish. Reversed: false\n",
      "[2024-05-30 13:32:30.879] [CoACD] [info] Manifold Check Time: 0.17588s\n",
      "[2024-05-30 13:32:30.879] [CoACD] [info] Mesh Manifoldness: true\n",
      "[2024-05-30 13:32:30.879] [CoACD] [info] # Points: 1174\n",
      "[2024-05-30 13:32:30.879] [CoACD] [info] # Triangles: 2360\n",
      "[2024-05-30 13:32:30.879] [CoACD] [info]  - Decomposition (MCTS)\n",
      "[2024-05-30 13:32:30.879] [CoACD] [info] iter 0 ---- waiting pool: 1\n",
      "[2024-05-30 13:32:30.879] [CoACD] [info] Processing [0.0%]\n",
      "[2024-05-30 13:32:31.722] [CoACD] [info] Processing [100.0%]\n",
      "[2024-05-30 13:32:31.722] [CoACD] [info] iter 1 ---- waiting pool: 2\n",
      "[2024-05-30 13:32:31.723] [CoACD] [info] Processing [0.0%]\n",
      "[2024-05-30 13:32:31.723] [CoACD] [info] Processing [50.0%]\n",
      "[2024-05-30 13:32:34.596] [CoACD] [info] Processing [100.0%]\n",
      "[2024-05-30 13:32:34.597] [CoACD] [info] iter 2 ---- waiting pool: 4\n",
      "[2024-05-30 13:32:34.597] [CoACD] [info] Processing [0.0%]\n",
      "[2024-05-30 13:32:34.597] [CoACD] [info] Processing [25.0%]\n",
      "[2024-05-30 13:32:34.597] [CoACD] [info] Processing [75.0%]\n",
      "[2024-05-30 13:32:34.597] [CoACD] [info] Processing [50.0%]\n",
      "[2024-05-30 13:32:36.992] [CoACD] [info] Processing [100.0%]\n",
      "[2024-05-30 13:32:36.992] [CoACD] [info] iter 3 ---- waiting pool: 6\n",
      "[2024-05-30 13:32:36.992] [CoACD] [info] Processing [0.0%]\n",
      "[2024-05-30 13:32:36.992] [CoACD] [info] Processing [50.0%]\n",
      "[2024-05-30 13:32:36.992] [CoACD] [info] Processing [33.3%]\n",
      "[2024-05-30 13:32:36.992] [CoACD] [info] Processing [66.7%]\n",
      "[2024-05-30 13:32:36.992] [CoACD] [info] Processing [83.3%]\n",
      "[2024-05-30 13:32:36.992] [CoACD] [info] Processing [16.7%]\n",
      "[2024-05-30 13:32:39.191] [CoACD] [info] Processing [100.0%]\n",
      "[2024-05-30 13:32:39.191] [CoACD] [info] iter 4 ---- waiting pool: 8\n",
      "[2024-05-30 13:32:39.191] [CoACD] [info] Processing [0.0%]\n",
      "[2024-05-30 13:32:39.191] [CoACD] [info] Processing [37.5%]\n",
      "[2024-05-30 13:32:39.191] [CoACD] [info] Processing [62.5%]\n",
      "[2024-05-30 13:32:39.191] [CoACD] [info] Processing [25.0%]\n",
      "[2024-05-30 13:32:39.191] [CoACD] [info] Processing [87.5%]\n",
      "[2024-05-30 13:32:39.191] [CoACD] [info] Processing [50.0%]\n",
      "[2024-05-30 13:32:39.191] [CoACD] [info] Processing [75.0%]\n",
      "[2024-05-30 13:32:39.191] [CoACD] [info] Processing [12.5%]\n",
      "[2024-05-30 13:32:41.919] [CoACD] [info] Processing [100.0%]\n",
      "[2024-05-30 13:32:41.919] [CoACD] [info] iter 5 ---- waiting pool: 16\n",
      "[2024-05-30 13:32:41.919] [CoACD] [info] Processing [0.0%]\n",
      "[2024-05-30 13:32:41.919] [CoACD] [info] Processing [37.5%]\n",
      "[2024-05-30 13:32:41.919] [CoACD] [info] Processing [75.0%]\n",
      "[2024-05-30 13:32:41.919] [CoACD] [info] Processing [87.5%]\n",
      "[2024-05-30 13:32:41.919] [CoACD] [info] Processing [50.0%]\n",
      "[2024-05-30 13:32:41.919] [CoACD] [info] Processing [12.5%]\n",
      "[2024-05-30 13:32:41.919] [CoACD] [info] Processing [25.0%]\n",
      "[2024-05-30 13:32:41.919] [CoACD] [info] Processing [62.5%]\n",
      "[2024-05-30 13:32:44.227] [CoACD] [info] Processing [100.0%]\n",
      "[2024-05-30 13:32:44.228] [CoACD] [info] iter 6 ---- waiting pool: 10\n",
      "[2024-05-30 13:32:44.228] [CoACD] [info] Processing [0.0%]\n",
      "[2024-05-30 13:32:44.228] [CoACD] [info] Processing [80.0%]\n",
      "[2024-05-30 13:32:44.228] [CoACD] [info] Processing [20.0%]\n",
      "[2024-05-30 13:32:44.228] [CoACD] [info] Processing [40.0%]\n",
      "[2024-05-30 13:32:44.228] [CoACD] [info] Processing [60.0%]\n",
      "[2024-05-30 13:32:45.547] [CoACD] [info] Processing [100.0%]\n",
      "[2024-05-30 13:32:45.547] [CoACD] [info] iter 7 ---- waiting pool: 4\n",
      "[2024-05-30 13:32:45.547] [CoACD] [info] Processing [0.0%]\n",
      "[2024-05-30 13:32:45.547] [CoACD] [info] Processing [25.0%]\n",
      "[2024-05-30 13:32:45.547] [CoACD] [info] Processing [50.0%]\n",
      "[2024-05-30 13:32:45.547] [CoACD] [info] Processing [75.0%]\n",
      "[2024-05-30 13:32:45.555] [CoACD] [info] Processing [100.0%]\n",
      "[2024-05-30 13:32:45.555] [CoACD] [info]  - Merge Convex Hulls\n",
      "[2024-05-30 13:32:46.108] [CoACD] [info] Compute Time: 15.22947096824646s\n",
      "[2024-05-30 13:32:46.108] [CoACD] [info] # Convex Hulls: 19\n"
     ]
    }
   ],
   "source": [
    "mesh = trimesh.load(\"./new_cali_tip.stl\", force=\"mesh\")\n",
    "mesh = coacd.Mesh(mesh.vertices, mesh.faces)\n",
    "parts = coacd.run_coacd(mesh) # a list of convex hulls."
   ]
  },
  {
   "cell_type": "code",
   "execution_count": 7,
   "metadata": {},
   "outputs": [],
   "source": [
    "for i, (vs, fs) in enumerate(parts):\n",
    "    mesh = trimesh.Trimesh(vs, fs)\n",
    "    mesh.export(\"parts_\"+str(i)+\".stl\")"
   ]
  }
 ],
 "metadata": {
  "kernelspec": {
   "display_name": ".venv",
   "language": "python",
   "name": "python3"
  },
  "language_info": {
   "codemirror_mode": {
    "name": "ipython",
    "version": 3
   },
   "file_extension": ".py",
   "mimetype": "text/x-python",
   "name": "python",
   "nbconvert_exporter": "python",
   "pygments_lexer": "ipython3",
   "version": "3.8.18"
  }
 },
 "nbformat": 4,
 "nbformat_minor": 2
}
